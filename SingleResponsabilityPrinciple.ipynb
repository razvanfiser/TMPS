{
 "cells": [
  {
   "cell_type": "code",
   "execution_count": 4,
   "id": "a1743c0c",
   "metadata": {},
   "outputs": [],
   "source": [
    "import numpy as np\n",
    "import matplotlib.pyplot as plt"
   ]
  },
  {
   "cell_type": "markdown",
   "id": "a756659e",
   "metadata": {},
   "source": [
    "# Single Responsibility Principle"
   ]
  },
  {
   "cell_type": "code",
   "execution_count": 23,
   "id": "08f20fe8",
   "metadata": {},
   "outputs": [],
   "source": [
    "# class BombSite is a class that generates bomb sites for a plane and is able to plot said bomb sites\n",
    "class BombSite():\n",
    "    def __init__(self):\n",
    "        self.targets_generated = False\n",
    "        self.targets = []\n",
    "        \n",
    "    def generate_targets(self, n):\n",
    "        self.targets_generated = True\n",
    "        self.targets = np.random.uniform(0.0, 1.0, size=(2, 10))\n",
    "        \n",
    "    def plot_targets(self):\n",
    "        if (self.targets_generated == False):\n",
    "            raise Exception(\"Sorry, targets are not generated yet\")\n",
    "        else:\n",
    "            plt.scatter(self.targets[0], self.targets[1])\n",
    "\n",
    "# class Plane stores all characteristics of a plane and its bomb site            \n",
    "class Plane():\n",
    "    def __init__(self, model, number, state):\n",
    "        self.model = model\n",
    "        self.number = number\n",
    "        self.state = state\n",
    "        self.bomb_site = BombSite()\n",
    "        \n",
    "    def state_model_state(self):\n",
    "        print (\"Plane No. {}, {} is currently {}.\".format(self.number, self.model, self.state))\n",
    "        \n",
    "    # functions below respect single responsability principle \n",
    "    def generate_targets(self, n):\n",
    "        self.bomb_site.generate_targets(n)\n",
    "        \n",
    "    def plot_targets(self):\n",
    "        self.bomb_site.plot_targets()"
   ]
  },
  {
   "cell_type": "code",
   "execution_count": 24,
   "id": "b74c21b6",
   "metadata": {},
   "outputs": [
    {
     "name": "stdout",
     "output_type": "stream",
     "text": [
      "Plane No. 1488, Spitfire is currently engaged.\n"
     ]
    }
   ],
   "source": [
    "plane1 = Plane(\"Spitfire\", 1488, \"engaged\")\n",
    "plane1.state_model_state()"
   ]
  },
  {
   "cell_type": "code",
   "execution_count": 25,
   "id": "65dcb566",
   "metadata": {},
   "outputs": [
    {
     "data": {
      "image/png": "[encoded data removed]",
      "text/plain": [
       "<Figure size 432x288 with 1 Axes>"
      ]
     },
     "metadata": {
      "needs_background": "light"
     },
     "output_type": "display_data"
    }
   ],
   "source": [
    "plane1.generate_targets(10)\n",
    "plane1.plot_targets()"
   ]
  },
  {
   "cell_type": "code",
   "execution_count": null,
   "id": "821696ac",
   "metadata": {},
   "outputs": [],
   "source": []
  },
  {
   "cell_type": "code",
   "execution_count": null,
   "id": "f29eb3bb",
   "metadata": {},
   "outputs": [],
   "source": []
  }
 ],
 "metadata": {
  "kernelspec": {
   "display_name": "Python 3 (ipykernel)",
   "language": "python",
   "name": "python3"
  },
  "language_info": {
   "codemirror_mode": {
    "name": "ipython",
    "version": 3
   },
   "file_extension": ".py",
   "mimetype": "text/x-python",
   "name": "python",
   "nbconvert_exporter": "python",
   "pygments_lexer": "ipython3",
   "version": "3.8.8"
  }
 },
 "nbformat": 4,
 "nbformat_minor": 5
}
